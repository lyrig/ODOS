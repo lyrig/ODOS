{
 "cells": [
  {
   "attachments": {},
   "cell_type": "markdown",
   "metadata": {},
   "source": [
    "# Explainable Detection of Online Sexism, SemEval-2023 Task 10\n",
    "\n",
    "In this tutorial, we will have a quick look of how to use the following files to train your model through your own dataset.\n",
    "\n",
    "To use these files, you need to prepare your datasets in advance. The let's begin our exciting journal.\n",
    "\n",
    "This tutorial will show you how to use it in these four steps:\n",
    "\n",
    "- Set information.\n",
    "- Begin to Train.\n",
    "- Do Validation.\n",
    "- Show results."
   ]
  },
  {
   "attachments": {},
   "cell_type": "markdown",
   "metadata": {},
   "source": [
    "## Set Loss function"
   ]
  },
  {
   "cell_type": "code",
   "execution_count": null,
   "metadata": {},
   "outputs": [],
   "source": [
    "import torch\n",
    "import torch.nn as nn\n",
    "from torch.utils.data import DataLoader\n",
    "from utils import setup_seed, train, validation\n",
    "\n",
    "import tqdm\n",
    "import os, argparse\n",
    "import model\n",
    "import matplotlib.pyplot as plt\n",
    "\n",
    "\n",
    "import numpy as np\n",
    "\n",
    "\n",
    "# You need to set these following var.\n",
    "train_dir = './data/edos_demo.csv'\n",
    "test_dir = './data/edos_demo.csv'\n",
    "validation_dir = './data/edos_demo.csv'\n",
    "lr = 5e-4\n",
    "epochs = 30\n",
    "save_path = './model/'\n",
    "batch_size = 128\n",
    "lf = 'criterion'\n",
    "md = 'Loglinear'\n",
    "sd = 'auto'\n",
    "seed = 42\n"
   ]
  },
  {
   "attachments": {},
   "cell_type": "markdown",
   "metadata": {},
   "source": [
    "## Train"
   ]
  },
  {
   "cell_type": "code",
   "execution_count": null,
   "metadata": {},
   "outputs": [],
   "source": [
    "# Set random seed.\n",
    "setup_seed(42)\n",
    "\n",
    "\n",
    "#======== Loss Function ============\n",
    "if lf == 'criterion':\n",
    "    loss = nn.CrossEntropyLoss()\n",
    "#===================================\n",
    "\n",
    "#============ Start Train =============\n",
    "Model, history = train(Model=md, Train_dir=train_dir, Test_dir=test_dir, criterion=loss, epochs=epochs, batch_size=batch_size, save_dir=save_path, saved=sd, lr=lr)\n",
    "#======================================"
   ]
  },
  {
   "attachments": {},
   "cell_type": "markdown",
   "metadata": {},
   "source": [
    "## Recall the result."
   ]
  },
  {
   "cell_type": "code",
   "execution_count": null,
   "metadata": {},
   "outputs": [],
   "source": [
    "print(history)\n",
    "plt.figure()\n",
    "plt.subplot(2, 1, 1)\n",
    "plt.plot([i for i in range(1, 31)], history['accuracy'])\n",
    "plt.title('accuracy')\n",
    "plt.xlabel('epochs')\n",
    "plt.ylabel('accuracy')\n",
    "\n",
    "\n",
    "plt.subplot(2, 1, 2)\n",
    "plt.plot([i for i in range(1, 31)], history['error'])\n",
    "plt.title('error')\n",
    "plt.xlabel('epochs')\n",
    "plt.ylabel('error')\n",
    "\n",
    "plt.show()\n",
    "plt.savefig('./result.png')"
   ]
  },
  {
   "attachments": {},
   "cell_type": "markdown",
   "metadata": {},
   "source": [
    "## Do validation"
   ]
  },
  {
   "cell_type": "code",
   "execution_count": null,
   "metadata": {},
   "outputs": [],
   "source": [
    "#============ Validation ==============\n",
    "#History = validation(model=Model, validation_dir = validation_dir, loss_function = loss)\n",
    "#======================================\n"
   ]
  },
  {
   "attachments": {},
   "cell_type": "markdown",
   "metadata": {},
   "source": [
    "# Citations\n",
    "\n",
    "\n",
    "\n",
    "\n",
    "\n",
    "# Thanks"
   ]
  }
 ],
 "metadata": {
  "language_info": {
   "name": "python"
  },
  "orig_nbformat": 4
 },
 "nbformat": 4,
 "nbformat_minor": 2
}
